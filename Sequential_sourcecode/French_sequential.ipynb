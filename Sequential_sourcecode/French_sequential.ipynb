{
 "cells": [
  {
   "cell_type": "code",
   "execution_count": 1,
   "id": "e7180836-f588-4cf6-98d3-145e94c88dfb",
   "metadata": {},
   "outputs": [],
   "source": [
    "import pandas as pd\n",
    "import numpy as np\n",
    "from sklearn.model_selection import train_test_split\n",
    "from sklearn.metrics import classification_report\n",
    "from tensorflow.keras.preprocessing.text import Tokenizer\n",
    "from tensorflow.keras.preprocessing.sequence import pad_sequences\n",
    "from tensorflow.keras.models import Sequential\n",
    "from tensorflow.keras.layers import Embedding, Conv1D, GlobalMaxPooling1D, Dense\n",
    "from tensorflow.keras.optimizers import Adam\n",
    "from tensorflow.keras.callbacks import EarlyStopping\n",
    "import joblib\n",
    "# Load the dataset\n",
    "dataset1 = pd.read_csv('E://PROJECTMINIS//DATASETS//multilingual//Dataset//Training//MultiLanguageTrainDataset.csv')\n",
    "dataset2= pd.read_csv('E://PROJECTMINIS//DATASETS//multilingual//french//fr_hf.csv')\n",
    "dataset2.rename(columns={'labels': 'label'}, inplace=True)\n",
    "\n",
    "dataset2['language'] = 4\n",
    "\n",
    "\n",
    "dataset2 = dataset2.drop(columns=['target', 'source','dataset','nb_annotators','tweet_id'])\n",
    "dataset1 = dataset1.drop(columns=['Unnamed: 0'])\n",
    "# Filter English data\n",
    "dataset1 = dataset1[dataset1['language'] == 4]\n",
    "\n",
    "french_data = pd.concat([dataset1, dataset2], ignore_index=True)\n",
    "# Split the data into training and validation sets\n",
    "train_texts, val_texts, train_labels, val_labels = train_test_split(\n",
    "    french_data['text'].astype(str), \n",
    "    french_data['label'], \n",
    "    test_size=0.2, \n",
    "    random_state=42\n",
    ")\n",
    "\n",
    "# Tokenization and preprocessing\n",
    "max_words = 10000\n",
    "max_sequence_length = 100\n",
    "\n",
    "tokenizer = Tokenizer(num_words=max_words, oov_token=\"<OOV>\")\n",
    "tokenizer.fit_on_texts(train_texts)\n",
    "\n",
    "train_sequences = tokenizer.texts_to_sequences(train_texts)\n",
    "val_sequences = tokenizer.texts_to_sequences(val_texts)\n",
    "\n",
    "train_data = pad_sequences(train_sequences, maxlen=max_sequence_length)\n",
    "val_data = pad_sequences(val_sequences, maxlen=max_sequence_length)\n",
    "\n"
   ]
  },
  {
   "cell_type": "code",
   "execution_count": 12,
   "id": "c8a1ba37-dd83-4d2b-9606-83cce2438b6c",
   "metadata": {},
   "outputs": [
    {
     "name": "stderr",
     "output_type": "stream",
     "text": [
      "C:\\Users\\Akshat\\AppData\\Local\\Programs\\Python\\Python311\\Lib\\site-packages\\keras\\src\\layers\\core\\embedding.py:90: UserWarning: Argument `input_length` is deprecated. Just remove it.\n",
      "  warnings.warn(\n"
     ]
    },
    {
     "name": "stdout",
     "output_type": "stream",
     "text": [
      "Epoch 1/10\n",
      "\u001b[1m350/350\u001b[0m \u001b[32m━━━━━━━━━━━━━━━━━━━━\u001b[0m\u001b[37m\u001b[0m \u001b[1m17s\u001b[0m 37ms/step - accuracy: 0.6663 - loss: 0.6030 - val_accuracy: 0.7548 - val_loss: 0.4681\n",
      "Epoch 2/10\n",
      "\u001b[1m350/350\u001b[0m \u001b[32m━━━━━━━━━━━━━━━━━━━━\u001b[0m\u001b[37m\u001b[0m \u001b[1m12s\u001b[0m 35ms/step - accuracy: 0.7993 - loss: 0.4151 - val_accuracy: 0.7538 - val_loss: 0.4869\n",
      "Epoch 3/10\n",
      "\u001b[1m350/350\u001b[0m \u001b[32m━━━━━━━━━━━━━━━━━━━━\u001b[0m\u001b[37m\u001b[0m \u001b[1m12s\u001b[0m 35ms/step - accuracy: 0.8756 - loss: 0.2842 - val_accuracy: 0.7536 - val_loss: 0.5343\n",
      "Epoch 4/10\n",
      "\u001b[1m350/350\u001b[0m \u001b[32m━━━━━━━━━━━━━━━━━━━━\u001b[0m\u001b[37m\u001b[0m \u001b[1m13s\u001b[0m 36ms/step - accuracy: 0.9167 - loss: 0.1967 - val_accuracy: 0.7500 - val_loss: 0.5957\n",
      "\u001b[1m35/35\u001b[0m \u001b[32m━━━━━━━━━━━━━━━━━━━━\u001b[0m\u001b[37m\u001b[0m \u001b[1m1s\u001b[0m 10ms/step - accuracy: 0.7728 - loss: 0.4739\n",
      "Test Loss: 0.4702\n",
      "Test Accuracy: 0.7758\n",
      "\u001b[1m35/35\u001b[0m \u001b[32m━━━━━━━━━━━━━━━━━━━━\u001b[0m\u001b[37m\u001b[0m \u001b[1m1s\u001b[0m 12ms/step\n",
      "              precision    recall  f1-score   support\n",
      "\n",
      "           0       0.74      0.82      0.78       532\n",
      "           1       0.81      0.73      0.77       565\n",
      "\n",
      "    accuracy                           0.78      1097\n",
      "   macro avg       0.78      0.78      0.78      1097\n",
      "weighted avg       0.78      0.78      0.78      1097\n",
      "\n"
     ]
    }
   ],
   "source": [
    "import pandas as pd\n",
    "import numpy as np\n",
    "from sklearn.model_selection import train_test_split\n",
    "from sklearn.metrics import classification_report\n",
    "from tensorflow.keras.preprocessing.text import Tokenizer\n",
    "from tensorflow.keras.preprocessing.sequence import pad_sequences\n",
    "from tensorflow.keras.models import Sequential\n",
    "from tensorflow.keras.layers import Embedding, Conv1D, GlobalMaxPooling1D, Dense\n",
    "from tensorflow.keras.optimizers import Adam\n",
    "from tensorflow.keras.callbacks import EarlyStopping\n",
    "import joblib\n",
    "\n",
    "# Load datasets\n",
    "dataset1 = pd.read_csv('E://PROJECTMINIS//DATASETS//multilingual//Dataset//Training//MultiLanguageTrainDataset.csv')\n",
    "dataset2 = pd.read_csv('E://PROJECTMINIS//DATASETS//multilingual//french//fr_hf.csv')\n",
    "dataset2.rename(columns={'labels': 'label'}, inplace=True)\n",
    "dataset2['language'] = 4\n",
    "dataset2 = dataset2.drop(columns=['target', 'source', 'dataset', 'nb_annotators', 'tweet_id'])\n",
    "dataset1 = dataset1.drop(columns=['Unnamed: 0'])\n",
    "\n",
    "# Filter English data\n",
    "dataset1 = dataset1[dataset1['language'] == 4]\n",
    "\n",
    "# Combine datasets\n",
    "french_data = pd.concat([dataset1, dataset2], ignore_index=True)\n",
    "\n",
    "# Split into training and validation sets\n",
    "train_texts, val_texts, train_labels, val_labels = train_test_split(\n",
    "    french_data['text'].astype(str),\n",
    "    french_data['label'],\n",
    "    test_size=0.2,\n",
    "    random_state=42\n",
    ")\n",
    "\n",
    "# Tokenization and preprocessing\n",
    "max_words = 10000\n",
    "max_sequence_length = 100\n",
    "\n",
    "tokenizer = Tokenizer(num_words=max_words, oov_token=\"<OOV>\")\n",
    "tokenizer.fit_on_texts(train_texts)\n",
    "\n",
    "train_sequences = tokenizer.texts_to_sequences(train_texts)\n",
    "val_sequences = tokenizer.texts_to_sequences(val_texts)\n",
    "\n",
    "train_data = pad_sequences(train_sequences, maxlen=max_sequence_length)\n",
    "val_data = pad_sequences(val_sequences, maxlen=max_sequence_length)\n",
    "\n",
    "# Model definition\n",
    "model = Sequential([\n",
    "    Embedding(input_dim=max_words, output_dim=128, input_length=max_sequence_length),\n",
    "    Conv1D(filters=64, kernel_size=5, activation='relu'),\n",
    "    GlobalMaxPooling1D(),\n",
    "    Dense(64, activation='relu'),\n",
    "    Dense(1, activation='sigmoid')  # For binary classification\n",
    "])\n",
    "\n",
    "model.compile(optimizer=Adam(), loss='binary_crossentropy', metrics=['accuracy'])\n",
    "\n",
    "# Early stopping callback\n",
    "early_stopping = EarlyStopping(monitor='val_loss', patience=3, restore_best_weights=True)\n",
    "\n",
    "# Train the model\n",
    "model.fit(train_data, train_labels, validation_data=(val_data, val_labels), epochs=10, batch_size=64, callbacks=[early_stopping])\n",
    "\n",
    "# Load the test data\n",
    "test = pd.read_csv('E://PROJECTMINIS//DATASETS//multilingual//Dataset//Testing//Test1//French_test.csv')\n",
    "test_texts = test['text'].astype(str)\n",
    "test_labels = test['label'].astype(int)\n",
    "\n",
    "# Preprocess the test data\n",
    "test_sequences = tokenizer.texts_to_sequences(test_texts)\n",
    "test_data = pad_sequences(test_sequences, maxlen=max_sequence_length)\n",
    "\n",
    "# Evaluate the model on test data\n",
    "test_loss, test_accuracy = model.evaluate(test_data, test_labels)\n",
    "print(f\"Test Loss: {test_loss:.4f}\")\n",
    "print(f\"Test Accuracy: {test_accuracy:.4f}\")\n",
    "\n",
    "# Generate predictions\n",
    "predictions = model.predict(test_data)\n",
    "predictions_binary = (predictions > 0.5).astype(int)\n",
    "\n",
    "# Classification report\n",
    "print(classification_report(test_labels, predictions_binary))\n"
   ]
  },
  {
   "cell_type": "code",
   "execution_count": 26,
   "id": "45e4630f-1d7b-4b80-bb4f-7a11fd3c0a88",
   "metadata": {},
   "outputs": [
    {
     "name": "stdout",
     "output_type": "stream",
     "text": [
      "\u001b[1m1/1\u001b[0m \u001b[32m━━━━━━━━━━━━━━━━━━━━\u001b[0m\u001b[37m\u001b[0m \u001b[1m0s\u001b[0m 114ms/step\n",
      "Text: 'Les Noirs sont des sauvages qui devraient être renvoyés en Afrique à coups de fouet' - Predicted: Hate Speech (Class 1) - Probability: 74.73%\n",
      "\u001b[1m1/1\u001b[0m \u001b[32m━━━━━━━━━━━━━━━━━━━━\u001b[0m\u001b[37m\u001b[0m \u001b[1m0s\u001b[0m 110ms/step\n",
      "Text: 'Les Arabes ne s’intégreront jamais, ils veulent imposer la charia partout' - Predicted: Hate Speech (Class 1) - Probability: 56.81%\n",
      "\u001b[1m1/1\u001b[0m \u001b[32m━━━━━━━━━━━━━━━━━━━━\u001b[0m\u001b[37m\u001b[0m \u001b[1m0s\u001b[0m 107ms/step\n",
      "Text: 'J’aime découvrir les cultures du monde, chaque pays a quelque chose d’unique à offrir.' - Predicted: Normal Speech (Class 0) - Probability: 7.18%\n",
      "\u001b[1m1/1\u001b[0m \u001b[32m━━━━━━━━━━━━━━━━━━━━\u001b[0m\u001b[37m\u001b[0m \u001b[1m0s\u001b[0m 108ms/step\n",
      "Text: 'la souillion' - Predicted: Normal Speech (Class 0) - Probability: 11.11%\n"
     ]
    }
   ],
   "source": [
    "def predict_input_with_percentage(text, tokenizer, model, max_sequence_length=100):\n",
    "    \n",
    "    sequences = tokenizer.texts_to_sequences([text])  \n",
    "    padded_sequence = pad_sequences(sequences, maxlen=max_sequence_length)  \n",
    "    \n",
    "    \n",
    "    prediction = model.predict(padded_sequence)  \n",
    "    \n",
    "    \n",
    "    prediction_percentage = prediction[0][0] * 100  \n",
    "    \n",
    "   \n",
    "    predicted_class = (prediction > 0.5).astype(int)  \n",
    "    \n",
    "    return predicted_class[0][0], prediction_percentage\n",
    "\n",
    "\n",
    "# Example input texts\n",
    "input_texts = [\n",
    "    \"Les Noirs sont des sauvages qui devraient être renvoyés en Afrique à coups de fouet\",\n",
    "    \"Les Arabes ne s’intégreront jamais, ils veulent imposer la charia partout\",\n",
    "    \"J’aime découvrir les cultures du monde, chaque pays a quelque chose d’unique à offrir.\",\n",
    "    \"la souillion\"\n",
    "]\n",
    "\n",
    "# Test each input and display the class with percentage\n",
    "for text in input_texts:\n",
    "    predicted_class, prediction_percentage = predict_input_with_percentage(text, tokenizer, model)\n",
    "    \n",
    "    # Print the result\n",
    "    if predicted_class == 1:\n",
    "        print(f\"Text: '{text}' - Predicted: Hate Speech (Class 1) - Probability: {prediction_percentage:.2f}%\")\n",
    "    else:\n",
    "        print(f\"Text: '{text}' - Predicted: Normal Speech (Class 0) - Probability: {prediction_percentage:.2f}%\")\n"
   ]
  },
  {
   "cell_type": "code",
   "execution_count": 18,
   "id": "59fd3d3b-4e6e-412f-aa47-2ccca680958e",
   "metadata": {},
   "outputs": [
    {
     "data": {
      "text/plain": [
       "['french_model.pkl']"
      ]
     },
     "execution_count": 18,
     "metadata": {},
     "output_type": "execute_result"
    }
   ],
   "source": [
    "joblib.dump(model, 'french_model.pkl')"
   ]
  },
  {
   "cell_type": "code",
   "execution_count": 20,
   "id": "153c0566-31ad-441c-a132-e65a522e795f",
   "metadata": {},
   "outputs": [
    {
     "name": "stdout",
     "output_type": "stream",
     "text": [
      "Tokenizer saved to tokenizer.pkl\n"
     ]
    }
   ],
   "source": [
    "import pickle\n",
    "from tensorflow.keras.preprocessing.text import Tokenizer\n",
    "\n",
    "\n",
    "\n",
    "# Save the tokenizer as a .pkl file\n",
    "with open('tokenizer_french.pkl', 'wb') as f:\n",
    "    pickle.dump(tokenizer, f)\n",
    "\n",
    "print(\"Tokenizer saved to tokenizer.pkl\")"
   ]
  }
 ],
 "metadata": {
  "kernelspec": {
   "display_name": "Python 3.11.9",
   "language": "python",
   "name": "python3.11"
  },
  "language_info": {
   "codemirror_mode": {
    "name": "ipython",
    "version": 3
   },
   "file_extension": ".py",
   "mimetype": "text/x-python",
   "name": "python",
   "nbconvert_exporter": "python",
   "pygments_lexer": "ipython3",
   "version": "3.11.9"
  }
 },
 "nbformat": 4,
 "nbformat_minor": 5
}
